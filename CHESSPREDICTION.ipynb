{
  "nbformat": 4,
  "nbformat_minor": 0,
  "metadata": {
    "colab": {
      "provenance": []
    },
    "kernelspec": {
      "name": "python3",
      "display_name": "Python 3"
    },
    "language_info": {
      "name": "python"
    }
  },
  "cells": [
    {
      "cell_type": "code",
      "execution_count": 1,
      "metadata": {
        "id": "PhlxMSzwQqWt"
      },
      "outputs": [],
      "source": [
        "##UTILITY FUNCTIONS"
      ]
    },
    {
      "cell_type": "code",
      "source": [
        "import numpy as np\n",
        "import pandas as pd\n",
        "import warnings\n",
        "from typing import List, Tuple, Dict\n",
        "\n",
        "\n",
        "def split_data(X, y, test_size=0.1, seed=None):\n",
        "    # shuffle data\n",
        "    np.random.seed(seed)\n",
        "    perm = np.random.permutation(X.index)\n",
        "    X = X.loc[perm]\n",
        "    y = y.loc[perm]\n",
        "    \n",
        "    # split into training and test sets\n",
        "    n_samples = X.shape[0]\n",
        "    if isinstance(test_size, float):\n",
        "        if test_size <= 0 or test_size >= 1:\n",
        "            raise ValueError(\"The test size should fall in the range (0,1)\")\n",
        "        n_train = n_samples - round(test_size*n_samples)\n",
        "    elif isinstance(test_size, int):\n",
        "        n_train = n_samples - test_size\n",
        "    else:\n",
        "        raise ValueError(\"Improper type \\'%s\\' for test_size\" % type(test_size))\n",
        "\n",
        "    X_train = X[:n_train]\n",
        "    y_train = y[:n_train]\n",
        "    X_test = X[n_train:]\n",
        "    y_test = y[n_train:]\n",
        "\n",
        "    return X_train, X_test, y_train, y_test\n",
        "\n",
        "def encode_one_hot(data): # note: pd.get_dummies(df) does the same\n",
        "    # https://www.kite.com/python/answers/how-to-do-one-hot-encoding-with-numpy-in-python\n",
        "    one_hot = np.zeros((data.size, data.max()+1))\n",
        "    rows = np.arange(data.size)\n",
        "    one_hot[rows, data] = 1\n",
        "    return one_hot\n",
        "\n",
        "\n",
        "def confusion_matrix(y_actual, y_pred):\n",
        "    \"\"\" Returns a confusion matrix where the rows are the actual classes, and the columns are the predicted classes\"\"\"\n",
        "    if y_actual.shape != y_pred.shape:\n",
        "        raise ValueError (\"input arrays must have the same shape, {}!={}\".format(y_actual.shape, y_pred.shape))\n",
        "    n = max(max(y_actual), max(y_pred)) + 1\n",
        "    C = np.zeros((n, n), dtype=int)\n",
        "    for label_actual in range(n):\n",
        "        idxs_true = (y_actual == label_actual)\n",
        "        for label_pred in range(n):\n",
        "            C[label_actual, label_pred] = sum(y_pred[idxs_true] == label_pred)\n",
        "    return C\n",
        "\n",
        "def calc_f1_score(y_actual, y_pred) -> Tuple[float]:\n",
        "    C = confusion_matrix(y_actual, y_pred)\n",
        "    if C.shape[0] != 2:\n",
        "        raise ValueError (\"input arrays must only have binary values\")\n",
        "    recall    = C[1][1]/(C[1][0]+C[1][1]) #true positive/actual positive\n",
        "    precision = C[1][1]/(C[0][1]+C[1][1]) #true positive/predicted positive\n",
        "    if (recall == 0) or (precision == 0):\n",
        "        f1 = 0\n",
        "    else:\n",
        "        f1 = 2 * recall*precision/(recall + precision) # = 2/((1/recall)+(1/precision))\n",
        "\n",
        "    print(\"Recall: {:.4f}\".format(recall))\n",
        "    print(\"Precision: {:.4f}\".format(precision))\n",
        "    print(\"F1 Score: {:.4f}\".format(f1))\n"
      ],
      "metadata": {
        "id": "y9K3ePRgQu81"
      },
      "execution_count": 2,
      "outputs": []
    },
    {
      "cell_type": "code",
      "source": [
        "import numpy as np\n",
        "\n",
        "class LogisticRegression:\n",
        "    def __init__(self, lr=0.01, num_iter=100000, fit_intercept=True):\n",
        "        self.lr = lr\n",
        "        self.num_iter = num_iter\n",
        "        self.fit_intercept = fit_intercept\n",
        "\n",
        "    def __add_intercept(self, X):\n",
        "        intercept = np.ones((X.shape[0], 1))\n",
        "        return np.concatenate((intercept, X), axis=1)\n",
        "\n",
        "    def __sigmoid(self, z):\n",
        "        return 1 / (1 + np.exp(-z))\n",
        "\n",
        "    def __loss(self, h, y):\n",
        "        return (-y * np.log(h) - (1 - y) * np.log(1 - h)).mean()\n",
        "\n",
        "    def fit(self, X, y):\n",
        "        if self.fit_intercept:\n",
        "            X = self.__add_intercept(X)\n",
        "\n",
        "        self.theta = np.zeros(X.shape[1])\n",
        "\n",
        "        for i in range(self.num_iter):\n",
        "            z = np.dot(X, self.theta)\n",
        "            h = self.__sigmoid(z)\n",
        "            gradient = np.dot(X.T, (h - y)) / y.size\n",
        "            self.theta -= self.lr * gradient\n",
        "\n",
        "    def predict_prob(self, X):\n",
        "        if self.fit_intercept:\n",
        "            X = self.__add_intercept(X)\n",
        "\n",
        "        return self.__sigmoid(np.dot(X, self.theta))\n",
        "\n",
        "    def predict(self, X, threshold=0.5):\n",
        "        return (self.predict_prob(X) >= threshold).astype(int)\n",
        "\n",
        "    def score(self, X, y):\n",
        "        y_pred = self.predict(X)\n",
        "        return np.mean(y_pred == y)\n",
        "      \n",
        "\n"
      ],
      "metadata": {
        "id": "tBnbJ-ZJRCjT"
      },
      "execution_count": 3,
      "outputs": []
    },
    {
      "cell_type": "code",
      "source": [
        "#CHESS_PREDICTION"
      ],
      "metadata": {
        "id": "3udHX2ZIidrC"
      },
      "execution_count": 4,
      "outputs": []
    },
    {
      "cell_type": "code",
      "source": [
        "import numpy as np\n",
        "import pandas as pd\n",
        "import matplotlib.pyplot as plt\n",
        "import seaborn as sns\n",
        "%matplotlib inline"
      ],
      "metadata": {
        "id": "iZtWrY1ki2ds"
      },
      "execution_count": 5,
      "outputs": []
    },
    {
      "cell_type": "code",
      "source": [
        "col=['White_King_file','White_King_rank','White_Rook_file','White_Rook_rank','Black_King_file','Black_King_rank','Result']\n",
        "df=pd.read_csv('/content/krkopt.data',sep=',',names=col)\n",
        "df.head()"
      ],
      "metadata": {
        "colab": {
          "base_uri": "https://localhost:8080/",
          "height": 206
        },
        "id": "nm2lhVSpi4om",
        "outputId": "3d61af3c-fe6e-4dea-918e-8e4e7567e8be"
      },
      "execution_count": 6,
      "outputs": [
        {
          "output_type": "execute_result",
          "data": {
            "text/plain": [
              "  White_King_file  White_King_rank White_Rook_file  White_Rook_rank  \\\n",
              "0               a                1               b                3   \n",
              "1               a                1               c                1   \n",
              "2               a                1               c                1   \n",
              "3               a                1               c                1   \n",
              "4               a                1               c                2   \n",
              "\n",
              "  Black_King_file  Black_King_rank Result  \n",
              "0               c                2   draw  \n",
              "1               c                2   draw  \n",
              "2               d                1   draw  \n",
              "3               d                2   draw  \n",
              "4               c                1   draw  "
            ],
            "text/html": [
              "\n",
              "  <div id=\"df-1efbde75-1be6-4d5e-a698-79016e0766d4\">\n",
              "    <div class=\"colab-df-container\">\n",
              "      <div>\n",
              "<style scoped>\n",
              "    .dataframe tbody tr th:only-of-type {\n",
              "        vertical-align: middle;\n",
              "    }\n",
              "\n",
              "    .dataframe tbody tr th {\n",
              "        vertical-align: top;\n",
              "    }\n",
              "\n",
              "    .dataframe thead th {\n",
              "        text-align: right;\n",
              "    }\n",
              "</style>\n",
              "<table border=\"1\" class=\"dataframe\">\n",
              "  <thead>\n",
              "    <tr style=\"text-align: right;\">\n",
              "      <th></th>\n",
              "      <th>White_King_file</th>\n",
              "      <th>White_King_rank</th>\n",
              "      <th>White_Rook_file</th>\n",
              "      <th>White_Rook_rank</th>\n",
              "      <th>Black_King_file</th>\n",
              "      <th>Black_King_rank</th>\n",
              "      <th>Result</th>\n",
              "    </tr>\n",
              "  </thead>\n",
              "  <tbody>\n",
              "    <tr>\n",
              "      <th>0</th>\n",
              "      <td>a</td>\n",
              "      <td>1</td>\n",
              "      <td>b</td>\n",
              "      <td>3</td>\n",
              "      <td>c</td>\n",
              "      <td>2</td>\n",
              "      <td>draw</td>\n",
              "    </tr>\n",
              "    <tr>\n",
              "      <th>1</th>\n",
              "      <td>a</td>\n",
              "      <td>1</td>\n",
              "      <td>c</td>\n",
              "      <td>1</td>\n",
              "      <td>c</td>\n",
              "      <td>2</td>\n",
              "      <td>draw</td>\n",
              "    </tr>\n",
              "    <tr>\n",
              "      <th>2</th>\n",
              "      <td>a</td>\n",
              "      <td>1</td>\n",
              "      <td>c</td>\n",
              "      <td>1</td>\n",
              "      <td>d</td>\n",
              "      <td>1</td>\n",
              "      <td>draw</td>\n",
              "    </tr>\n",
              "    <tr>\n",
              "      <th>3</th>\n",
              "      <td>a</td>\n",
              "      <td>1</td>\n",
              "      <td>c</td>\n",
              "      <td>1</td>\n",
              "      <td>d</td>\n",
              "      <td>2</td>\n",
              "      <td>draw</td>\n",
              "    </tr>\n",
              "    <tr>\n",
              "      <th>4</th>\n",
              "      <td>a</td>\n",
              "      <td>1</td>\n",
              "      <td>c</td>\n",
              "      <td>2</td>\n",
              "      <td>c</td>\n",
              "      <td>1</td>\n",
              "      <td>draw</td>\n",
              "    </tr>\n",
              "  </tbody>\n",
              "</table>\n",
              "</div>\n",
              "      <button class=\"colab-df-convert\" onclick=\"convertToInteractive('df-1efbde75-1be6-4d5e-a698-79016e0766d4')\"\n",
              "              title=\"Convert this dataframe to an interactive table.\"\n",
              "              style=\"display:none;\">\n",
              "        \n",
              "  <svg xmlns=\"http://www.w3.org/2000/svg\" height=\"24px\"viewBox=\"0 0 24 24\"\n",
              "       width=\"24px\">\n",
              "    <path d=\"M0 0h24v24H0V0z\" fill=\"none\"/>\n",
              "    <path d=\"M18.56 5.44l.94 2.06.94-2.06 2.06-.94-2.06-.94-.94-2.06-.94 2.06-2.06.94zm-11 1L8.5 8.5l.94-2.06 2.06-.94-2.06-.94L8.5 2.5l-.94 2.06-2.06.94zm10 10l.94 2.06.94-2.06 2.06-.94-2.06-.94-.94-2.06-.94 2.06-2.06.94z\"/><path d=\"M17.41 7.96l-1.37-1.37c-.4-.4-.92-.59-1.43-.59-.52 0-1.04.2-1.43.59L10.3 9.45l-7.72 7.72c-.78.78-.78 2.05 0 2.83L4 21.41c.39.39.9.59 1.41.59.51 0 1.02-.2 1.41-.59l7.78-7.78 2.81-2.81c.8-.78.8-2.07 0-2.86zM5.41 20L4 18.59l7.72-7.72 1.47 1.35L5.41 20z\"/>\n",
              "  </svg>\n",
              "      </button>\n",
              "      \n",
              "  <style>\n",
              "    .colab-df-container {\n",
              "      display:flex;\n",
              "      flex-wrap:wrap;\n",
              "      gap: 12px;\n",
              "    }\n",
              "\n",
              "    .colab-df-convert {\n",
              "      background-color: #E8F0FE;\n",
              "      border: none;\n",
              "      border-radius: 50%;\n",
              "      cursor: pointer;\n",
              "      display: none;\n",
              "      fill: #1967D2;\n",
              "      height: 32px;\n",
              "      padding: 0 0 0 0;\n",
              "      width: 32px;\n",
              "    }\n",
              "\n",
              "    .colab-df-convert:hover {\n",
              "      background-color: #E2EBFA;\n",
              "      box-shadow: 0px 1px 2px rgba(60, 64, 67, 0.3), 0px 1px 3px 1px rgba(60, 64, 67, 0.15);\n",
              "      fill: #174EA6;\n",
              "    }\n",
              "\n",
              "    [theme=dark] .colab-df-convert {\n",
              "      background-color: #3B4455;\n",
              "      fill: #D2E3FC;\n",
              "    }\n",
              "\n",
              "    [theme=dark] .colab-df-convert:hover {\n",
              "      background-color: #434B5C;\n",
              "      box-shadow: 0px 1px 3px 1px rgba(0, 0, 0, 0.15);\n",
              "      filter: drop-shadow(0px 1px 2px rgba(0, 0, 0, 0.3));\n",
              "      fill: #FFFFFF;\n",
              "    }\n",
              "  </style>\n",
              "\n",
              "      <script>\n",
              "        const buttonEl =\n",
              "          document.querySelector('#df-1efbde75-1be6-4d5e-a698-79016e0766d4 button.colab-df-convert');\n",
              "        buttonEl.style.display =\n",
              "          google.colab.kernel.accessAllowed ? 'block' : 'none';\n",
              "\n",
              "        async function convertToInteractive(key) {\n",
              "          const element = document.querySelector('#df-1efbde75-1be6-4d5e-a698-79016e0766d4');\n",
              "          const dataTable =\n",
              "            await google.colab.kernel.invokeFunction('convertToInteractive',\n",
              "                                                     [key], {});\n",
              "          if (!dataTable) return;\n",
              "\n",
              "          const docLinkHtml = 'Like what you see? Visit the ' +\n",
              "            '<a target=\"_blank\" href=https://colab.research.google.com/notebooks/data_table.ipynb>data table notebook</a>'\n",
              "            + ' to learn more about interactive tables.';\n",
              "          element.innerHTML = '';\n",
              "          dataTable['output_type'] = 'display_data';\n",
              "          await google.colab.output.renderOutput(dataTable, element);\n",
              "          const docLink = document.createElement('div');\n",
              "          docLink.innerHTML = docLinkHtml;\n",
              "          element.appendChild(docLink);\n",
              "        }\n",
              "      </script>\n",
              "    </div>\n",
              "  </div>\n",
              "  "
            ]
          },
          "metadata": {},
          "execution_count": 6
        }
      ]
    },
    {
      "cell_type": "code",
      "source": [
        "df.shape"
      ],
      "metadata": {
        "colab": {
          "base_uri": "https://localhost:8080/"
        },
        "id": "ntStUSzwi71Q",
        "outputId": "80a6f8a9-f03c-4147-c719-78472bffd63c"
      },
      "execution_count": 7,
      "outputs": [
        {
          "output_type": "execute_result",
          "data": {
            "text/plain": [
              "(28056, 7)"
            ]
          },
          "metadata": {},
          "execution_count": 7
        }
      ]
    },
    {
      "cell_type": "code",
      "source": [
        "# TARGET DISTRIBUTION \n",
        "print(df['Result'].value_counts().sort_index) "
      ],
      "metadata": {
        "colab": {
          "base_uri": "https://localhost:8080/"
        },
        "id": "e-tqZ4Tli-gP",
        "outputId": "6c2d009c-66d5-470b-b8ac-d533feca76d3"
      },
      "execution_count": 8,
      "outputs": [
        {
          "output_type": "stream",
          "name": "stdout",
          "text": [
            "<bound method Series.sort_index of fourteen    4553\n",
            "thirteen    4194\n",
            "twelve      3597\n",
            "eleven      2854\n",
            "draw        2796\n",
            "fifteen     2166\n",
            "ten         1985\n",
            "nine        1712\n",
            "eight       1433\n",
            "seven        683\n",
            "six          592\n",
            "five         471\n",
            "sixteen      390\n",
            "two          246\n",
            "four         198\n",
            "three         81\n",
            "one           78\n",
            "zero          27\n",
            "Name: Result, dtype: int64>\n"
          ]
        }
      ]
    },
    {
      "cell_type": "code",
      "source": [
        "df.isnull().sum()"
      ],
      "metadata": {
        "colab": {
          "base_uri": "https://localhost:8080/"
        },
        "id": "Z4riUd8ljAhj",
        "outputId": "8a31de9d-60a7-4b32-b58b-06bcd62208b2"
      },
      "execution_count": 9,
      "outputs": [
        {
          "output_type": "execute_result",
          "data": {
            "text/plain": [
              "White_King_file    0\n",
              "White_King_rank    0\n",
              "White_Rook_file    0\n",
              "White_Rook_rank    0\n",
              "Black_King_file    0\n",
              "Black_King_rank    0\n",
              "Result             0\n",
              "dtype: int64"
            ]
          },
          "metadata": {},
          "execution_count": 9
        }
      ]
    },
    {
      "cell_type": "code",
      "source": [
        "# Define a dictionary to map each unique category to a unique integer value\n",
        "white_king_map = {val: idx for idx, val in enumerate(df['White_King_file'].unique())}\n",
        "white_rook_map = {val: idx for idx, val in enumerate(df['White_Rook_file'].unique())}\n",
        "black_king_map = {val: idx for idx, val in enumerate(df['Black_King_file'].unique())}\n",
        "result_map = {val: idx for idx, val in enumerate(df['Result'].unique())}\n",
        "\n",
        "# Use the map to replace each categorical value with its corresponding integer value\n",
        "df['White_King_file'] = df['White_King_file'].map(white_king_map)\n",
        "df['White_Rook_file'] = df['White_Rook_file'].map(white_rook_map)\n",
        "df['Black_King_file'] = df['Black_King_file'].map(black_king_map)\n",
        "df['Result'] = df['Result'].map(result_map)\n"
      ],
      "metadata": {
        "id": "6G9PTvF1jC-j"
      },
      "execution_count": 10,
      "outputs": []
    },
    {
      "cell_type": "code",
      "source": [
        "# Separating dependent-independent variables\n",
        "X = df.drop('Result',axis=1)\n",
        "y = df['Result']"
      ],
      "metadata": {
        "id": "kB72FOeXjNFK"
      },
      "execution_count": 11,
      "outputs": []
    },
    {
      "cell_type": "code",
      "source": [
        "X_train, X_test, y_train, y_test = split_data(X, y, test_size=0.2)"
      ],
      "metadata": {
        "id": "4Zl-pIXsjPoU"
      },
      "execution_count": 12,
      "outputs": []
    },
    {
      "cell_type": "code",
      "source": [
        "X_train.shape,y_train.shape,X_test.shape,y_test.shape"
      ],
      "metadata": {
        "colab": {
          "base_uri": "https://localhost:8080/"
        },
        "id": "lZEjp4cQjST_",
        "outputId": "0bac451a-cb68-4e60-a2a8-3233d2861f2f"
      },
      "execution_count": 13,
      "outputs": [
        {
          "output_type": "execute_result",
          "data": {
            "text/plain": [
              "((22445, 6), (22445,), (5611, 6), (5611,))"
            ]
          },
          "metadata": {},
          "execution_count": 13
        }
      ]
    },
    {
      "cell_type": "code",
      "source": [
        "# Instantiate and fit a logistic regression model\n",
        "lr = LogisticRegression(lr=0.1, num_iter=5000, fit_intercept=True)\n",
        "lr.fit(X_train, y_train)\n",
        "\n",
        "# Evaluate the model on the test set\n",
        "acc_test = lr.score(X_test, y_test)\n",
        "acc_train = lr.score(X_train, y_train)\n",
        "y_train_pred = lr.predict(X_train)\n",
        "y_pred = lr.predict(X_test)"
      ],
      "metadata": {
        "id": "B54EtixgjUOH"
      },
      "execution_count": 14,
      "outputs": []
    },
    {
      "cell_type": "code",
      "source": [
        "print(\"Logistic Regression model\")\n",
        "print(\"train accuracy: %.2f%%\" % (acc_train*100))\n",
        "print(\"test accuracy:  %.2f%%\" % (acc_test*100))"
      ],
      "metadata": {
        "colab": {
          "base_uri": "https://localhost:8080/"
        },
        "id": "uvXdmSGXjYML",
        "outputId": "7b777d09-a8dc-4730-ac15-c2f98a661bf0"
      },
      "execution_count": 15,
      "outputs": [
        {
          "output_type": "stream",
          "name": "stdout",
          "text": [
            "Logistic Regression model\n",
            "train accuracy: 0.09%\n",
            "test accuracy:  0.11%\n"
          ]
        }
      ]
    },
    {
      "cell_type": "code",
      "source": [
        "  # Define grid search function\n",
        "def grid_search(X, y, learning_rates, n_iters_values):\n",
        "        best_acc = 0\n",
        "        best_lr = None\n",
        "        best_n_iters = None\n",
        "\n",
        "        for lr in learning_rates:\n",
        "            for n_iters in n_iters_values:\n",
        "              lr = LogisticRegression(lr=0.5, num_iter=5000, fit_intercept=True)\n",
        "              lr.fit(X, y)\n",
        "              y_pred = lr.predict(X)\n",
        "              acc = sum(y_pred == y) / len(y)\n",
        "              if acc > best_acc:\n",
        "                best_acc = acc\n",
        "                best_lr = lr\n",
        "                best_n_iters = n_iters\n",
        "\n",
        "            return best_lr, best_n_iters, best_acc"
      ],
      "metadata": {
        "id": "SAWpHEovU63U"
      },
      "execution_count": 17,
      "outputs": []
    },
    {
      "cell_type": "code",
      "source": [
        "\n",
        "# Define hyperparameter search space\n",
        "learning_rates = [0.05, 0.5, 5]\n",
        "n_iters_values = [100, 1000, 10000]"
      ],
      "metadata": {
        "id": "yRO0_iXRU9vp"
      },
      "execution_count": 18,
      "outputs": []
    },
    {
      "cell_type": "code",
      "source": [
        "best_lr, best_n_iters, best_acc= grid_search(X, y, learning_rates, n_iters_values)\n",
        "print(\"Best score:\", best_acc)\n",
        "print(\"Best learning_rate:\", best_lr)\n",
        "print(\"Best n_iters:\", best_n_iters)"
      ],
      "metadata": {
        "colab": {
          "base_uri": "https://localhost:8080/"
        },
        "id": "mnghvbbWjciO",
        "outputId": "c254f740-639e-4e9e-ad79-87888758b90a"
      },
      "execution_count": 19,
      "outputs": [
        {
          "output_type": "stream",
          "name": "stdout",
          "text": [
            "Best score: 0.000962360992301112\n",
            "Best learning_rate: <__main__.LogisticRegression object at 0x7fdc41b364f0>\n",
            "Best n_iters: 100\n"
          ]
        }
      ]
    }
  ]
}